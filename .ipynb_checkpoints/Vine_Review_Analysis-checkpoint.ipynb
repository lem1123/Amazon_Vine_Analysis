{
 "cells": [
  {
   "cell_type": "code",
   "execution_count": 4,
   "id": "fca9b92f",
   "metadata": {},
   "outputs": [],
   "source": [
    "# Imports\n",
    "\n",
    "import pandas as pd\n",
    "\n",
    "import matplotlib.pyplot as plt"
   ]
  },
  {
   "cell_type": "code",
   "execution_count": 5,
   "id": "4f0d9c3c",
   "metadata": {},
   "outputs": [
    {
     "data": {
      "text/html": [
       "<div>\n",
       "<style scoped>\n",
       "    .dataframe tbody tr th:only-of-type {\n",
       "        vertical-align: middle;\n",
       "    }\n",
       "\n",
       "    .dataframe tbody tr th {\n",
       "        vertical-align: top;\n",
       "    }\n",
       "\n",
       "    .dataframe thead th {\n",
       "        text-align: right;\n",
       "    }\n",
       "</style>\n",
       "<table border=\"1\" class=\"dataframe\">\n",
       "  <thead>\n",
       "    <tr style=\"text-align: right;\">\n",
       "      <th></th>\n",
       "      <th>review_id</th>\n",
       "      <th>star_rating</th>\n",
       "      <th>helpful_votes</th>\n",
       "      <th>total_votes</th>\n",
       "      <th>vine</th>\n",
       "      <th>verified_purchase</th>\n",
       "    </tr>\n",
       "  </thead>\n",
       "  <tbody>\n",
       "    <tr>\n",
       "      <th>0</th>\n",
       "      <td>R8EWA1OFT84NX</td>\n",
       "      <td>5</td>\n",
       "      <td>0</td>\n",
       "      <td>0</td>\n",
       "      <td>N</td>\n",
       "      <td>Y</td>\n",
       "    </tr>\n",
       "    <tr>\n",
       "      <th>1</th>\n",
       "      <td>R2JWY4YRQD4FOP</td>\n",
       "      <td>5</td>\n",
       "      <td>0</td>\n",
       "      <td>0</td>\n",
       "      <td>N</td>\n",
       "      <td>N</td>\n",
       "    </tr>\n",
       "    <tr>\n",
       "      <th>2</th>\n",
       "      <td>RL5ESX231LZ0B</td>\n",
       "      <td>5</td>\n",
       "      <td>0</td>\n",
       "      <td>0</td>\n",
       "      <td>N</td>\n",
       "      <td>Y</td>\n",
       "    </tr>\n",
       "    <tr>\n",
       "      <th>3</th>\n",
       "      <td>RRMS9ZWJ2KD08</td>\n",
       "      <td>5</td>\n",
       "      <td>0</td>\n",
       "      <td>0</td>\n",
       "      <td>N</td>\n",
       "      <td>Y</td>\n",
       "    </tr>\n",
       "    <tr>\n",
       "      <th>4</th>\n",
       "      <td>R14I3ZG5E6S7YM</td>\n",
       "      <td>5</td>\n",
       "      <td>0</td>\n",
       "      <td>0</td>\n",
       "      <td>N</td>\n",
       "      <td>Y</td>\n",
       "    </tr>\n",
       "  </tbody>\n",
       "</table>\n",
       "</div>"
      ],
      "text/plain": [
       "        review_id  star_rating  helpful_votes  total_votes vine  \\\n",
       "0   R8EWA1OFT84NX            5              0            0    N   \n",
       "1  R2JWY4YRQD4FOP            5              0            0    N   \n",
       "2   RL5ESX231LZ0B            5              0            0    N   \n",
       "3   RRMS9ZWJ2KD08            5              0            0    N   \n",
       "4  R14I3ZG5E6S7YM            5              0            0    N   \n",
       "\n",
       "  verified_purchase  \n",
       "0                 Y  \n",
       "1                 N  \n",
       "2                 Y  \n",
       "3                 Y  \n",
       "4                 Y  "
      ]
     },
     "execution_count": 5,
     "metadata": {},
     "output_type": "execute_result"
    }
   ],
   "source": [
    "# Show df to ensure it works\n",
    "\n",
    "vine_df = pd.read_csv(\"vine_table.csv\")\n",
    "vine_df.head()"
   ]
  },
  {
   "cell_type": "code",
   "execution_count": 6,
   "id": "ba3e06ee",
   "metadata": {},
   "outputs": [
    {
     "name": "stdout",
     "output_type": "stream",
     "text": [
      "<class 'pandas.core.frame.DataFrame'>\n",
      "RangeIndex: 1048575 entries, 0 to 1048574\n",
      "Data columns (total 6 columns):\n",
      " #   Column             Non-Null Count    Dtype \n",
      "---  ------             --------------    ----- \n",
      " 0   review_id          1048575 non-null  object\n",
      " 1   star_rating        1048575 non-null  int64 \n",
      " 2   helpful_votes      1048575 non-null  int64 \n",
      " 3   total_votes        1048575 non-null  int64 \n",
      " 4   vine               1048575 non-null  object\n",
      " 5   verified_purchase  1048575 non-null  object\n",
      "dtypes: int64(3), object(3)\n",
      "memory usage: 48.0+ MB\n"
     ]
    }
   ],
   "source": [
    "# Detail the info in the df\n",
    "\n",
    "vine_df.info()"
   ]
  },
  {
   "cell_type": "code",
   "execution_count": 10,
   "id": "487ef09c",
   "metadata": {},
   "outputs": [
    {
     "data": {
      "text/html": [
       "<div>\n",
       "<style scoped>\n",
       "    .dataframe tbody tr th:only-of-type {\n",
       "        vertical-align: middle;\n",
       "    }\n",
       "\n",
       "    .dataframe tbody tr th {\n",
       "        vertical-align: top;\n",
       "    }\n",
       "\n",
       "    .dataframe thead th {\n",
       "        text-align: right;\n",
       "    }\n",
       "</style>\n",
       "<table border=\"1\" class=\"dataframe\">\n",
       "  <thead>\n",
       "    <tr style=\"text-align: right;\">\n",
       "      <th></th>\n",
       "      <th>review_id</th>\n",
       "      <th>star_rating</th>\n",
       "      <th>helpful_votes</th>\n",
       "      <th>total_votes</th>\n",
       "      <th>vine</th>\n",
       "      <th>verified_purchase</th>\n",
       "    </tr>\n",
       "  </thead>\n",
       "  <tbody>\n",
       "    <tr>\n",
       "      <th>591</th>\n",
       "      <td>ROI00QN8IS49I</td>\n",
       "      <td>5</td>\n",
       "      <td>83</td>\n",
       "      <td>91</td>\n",
       "      <td>N</td>\n",
       "      <td>N</td>\n",
       "    </tr>\n",
       "    <tr>\n",
       "      <th>1122</th>\n",
       "      <td>R13C5INE1RTZP6</td>\n",
       "      <td>2</td>\n",
       "      <td>26</td>\n",
       "      <td>26</td>\n",
       "      <td>N</td>\n",
       "      <td>Y</td>\n",
       "    </tr>\n",
       "    <tr>\n",
       "      <th>1311</th>\n",
       "      <td>RXVMMXCL67MZN</td>\n",
       "      <td>4</td>\n",
       "      <td>378</td>\n",
       "      <td>383</td>\n",
       "      <td>N</td>\n",
       "      <td>Y</td>\n",
       "    </tr>\n",
       "    <tr>\n",
       "      <th>1837</th>\n",
       "      <td>R33JJQWAUYBKD3</td>\n",
       "      <td>5</td>\n",
       "      <td>270</td>\n",
       "      <td>280</td>\n",
       "      <td>N</td>\n",
       "      <td>Y</td>\n",
       "    </tr>\n",
       "    <tr>\n",
       "      <th>1954</th>\n",
       "      <td>R3N0XV9267NOXV</td>\n",
       "      <td>5</td>\n",
       "      <td>41</td>\n",
       "      <td>47</td>\n",
       "      <td>Y</td>\n",
       "      <td>N</td>\n",
       "    </tr>\n",
       "  </tbody>\n",
       "</table>\n",
       "</div>"
      ],
      "text/plain": [
       "           review_id  star_rating  helpful_votes  total_votes vine  \\\n",
       "591    ROI00QN8IS49I            5             83           91    N   \n",
       "1122  R13C5INE1RTZP6            2             26           26    N   \n",
       "1311   RXVMMXCL67MZN            4            378          383    N   \n",
       "1837  R33JJQWAUYBKD3            5            270          280    N   \n",
       "1954  R3N0XV9267NOXV            5             41           47    Y   \n",
       "\n",
       "     verified_purchase  \n",
       "591                  N  \n",
       "1122                 Y  \n",
       "1311                 Y  \n",
       "1837                 Y  \n",
       "1954                 N  "
      ]
     },
     "execution_count": 10,
     "metadata": {},
     "output_type": "execute_result"
    }
   ],
   "source": [
    "# Filter the data and create a new DataFrame or table to retrieve all the rows where the total_votes count \n",
    "# is equal to or greater than 20 \n",
    "\n",
    "revised_vine_df = vine_df[vine_df[\"total_votes\"] >= 20]\n",
    "\n",
    "revised_vine_df.head()\n",
    "\n"
   ]
  },
  {
   "cell_type": "code",
   "execution_count": 12,
   "id": "3d698d6d",
   "metadata": {},
   "outputs": [
    {
     "data": {
      "text/html": [
       "<div>\n",
       "<style scoped>\n",
       "    .dataframe tbody tr th:only-of-type {\n",
       "        vertical-align: middle;\n",
       "    }\n",
       "\n",
       "    .dataframe tbody tr th {\n",
       "        vertical-align: top;\n",
       "    }\n",
       "\n",
       "    .dataframe thead th {\n",
       "        text-align: right;\n",
       "    }\n",
       "</style>\n",
       "<table border=\"1\" class=\"dataframe\">\n",
       "  <thead>\n",
       "    <tr style=\"text-align: right;\">\n",
       "      <th></th>\n",
       "      <th>review_id</th>\n",
       "      <th>star_rating</th>\n",
       "      <th>helpful_votes</th>\n",
       "      <th>total_votes</th>\n",
       "      <th>vine</th>\n",
       "      <th>verified_purchase</th>\n",
       "    </tr>\n",
       "  </thead>\n",
       "  <tbody>\n",
       "    <tr>\n",
       "      <th>591</th>\n",
       "      <td>ROI00QN8IS49I</td>\n",
       "      <td>5</td>\n",
       "      <td>83</td>\n",
       "      <td>91</td>\n",
       "      <td>N</td>\n",
       "      <td>N</td>\n",
       "    </tr>\n",
       "    <tr>\n",
       "      <th>1122</th>\n",
       "      <td>R13C5INE1RTZP6</td>\n",
       "      <td>2</td>\n",
       "      <td>26</td>\n",
       "      <td>26</td>\n",
       "      <td>N</td>\n",
       "      <td>Y</td>\n",
       "    </tr>\n",
       "    <tr>\n",
       "      <th>1311</th>\n",
       "      <td>RXVMMXCL67MZN</td>\n",
       "      <td>4</td>\n",
       "      <td>378</td>\n",
       "      <td>383</td>\n",
       "      <td>N</td>\n",
       "      <td>Y</td>\n",
       "    </tr>\n",
       "    <tr>\n",
       "      <th>1837</th>\n",
       "      <td>R33JJQWAUYBKD3</td>\n",
       "      <td>5</td>\n",
       "      <td>270</td>\n",
       "      <td>280</td>\n",
       "      <td>N</td>\n",
       "      <td>Y</td>\n",
       "    </tr>\n",
       "    <tr>\n",
       "      <th>1954</th>\n",
       "      <td>R3N0XV9267NOXV</td>\n",
       "      <td>5</td>\n",
       "      <td>41</td>\n",
       "      <td>47</td>\n",
       "      <td>Y</td>\n",
       "      <td>N</td>\n",
       "    </tr>\n",
       "  </tbody>\n",
       "</table>\n",
       "</div>"
      ],
      "text/plain": [
       "           review_id  star_rating  helpful_votes  total_votes vine  \\\n",
       "591    ROI00QN8IS49I            5             83           91    N   \n",
       "1122  R13C5INE1RTZP6            2             26           26    N   \n",
       "1311   RXVMMXCL67MZN            4            378          383    N   \n",
       "1837  R33JJQWAUYBKD3            5            270          280    N   \n",
       "1954  R3N0XV9267NOXV            5             41           47    Y   \n",
       "\n",
       "     verified_purchase  \n",
       "591                  N  \n",
       "1122                 Y  \n",
       "1311                 Y  \n",
       "1837                 Y  \n",
       "1954                 N  "
      ]
     },
     "execution_count": 12,
     "metadata": {},
     "output_type": "execute_result"
    }
   ],
   "source": [
    "# Filter the new DataFrame or table created in Step 1 and create a new DataFrame or table to retrieve all the rows \n",
    "# where the number of helpful_votes divided by total_votes is equal to or greater than 50%.\n",
    "\n",
    "new_vine_df = revised_vine_df.loc[revised_vine_df.helpful_votes / revised_vine_df.total_votes >= 0.5]\n",
    "\n",
    "new_vine_df.head()\n"
   ]
  },
  {
   "cell_type": "code",
   "execution_count": 23,
   "id": "ad2b8931",
   "metadata": {},
   "outputs": [
    {
     "data": {
      "text/html": [
       "<div>\n",
       "<style scoped>\n",
       "    .dataframe tbody tr th:only-of-type {\n",
       "        vertical-align: middle;\n",
       "    }\n",
       "\n",
       "    .dataframe tbody tr th {\n",
       "        vertical-align: top;\n",
       "    }\n",
       "\n",
       "    .dataframe thead th {\n",
       "        text-align: right;\n",
       "    }\n",
       "</style>\n",
       "<table border=\"1\" class=\"dataframe\">\n",
       "  <thead>\n",
       "    <tr style=\"text-align: right;\">\n",
       "      <th></th>\n",
       "      <th>review_id</th>\n",
       "      <th>star_rating</th>\n",
       "      <th>helpful_votes</th>\n",
       "      <th>total_votes</th>\n",
       "      <th>vine</th>\n",
       "      <th>verified_purchase</th>\n",
       "    </tr>\n",
       "  </thead>\n",
       "  <tbody>\n",
       "    <tr>\n",
       "      <th>1954</th>\n",
       "      <td>R3N0XV9267NOXV</td>\n",
       "      <td>5</td>\n",
       "      <td>41</td>\n",
       "      <td>47</td>\n",
       "      <td>Y</td>\n",
       "      <td>N</td>\n",
       "    </tr>\n",
       "    <tr>\n",
       "      <th>5736</th>\n",
       "      <td>RSA6JQ346JZHZ</td>\n",
       "      <td>5</td>\n",
       "      <td>55</td>\n",
       "      <td>64</td>\n",
       "      <td>Y</td>\n",
       "      <td>Y</td>\n",
       "    </tr>\n",
       "    <tr>\n",
       "      <th>7385</th>\n",
       "      <td>R1FXF4HRMCLG4C</td>\n",
       "      <td>5</td>\n",
       "      <td>69</td>\n",
       "      <td>84</td>\n",
       "      <td>Y</td>\n",
       "      <td>N</td>\n",
       "    </tr>\n",
       "    <tr>\n",
       "      <th>7883</th>\n",
       "      <td>RCTBWC3II42MG</td>\n",
       "      <td>4</td>\n",
       "      <td>113</td>\n",
       "      <td>117</td>\n",
       "      <td>Y</td>\n",
       "      <td>N</td>\n",
       "    </tr>\n",
       "    <tr>\n",
       "      <th>24464</th>\n",
       "      <td>RTMQM2CQ1XIZ0</td>\n",
       "      <td>5</td>\n",
       "      <td>21</td>\n",
       "      <td>25</td>\n",
       "      <td>Y</td>\n",
       "      <td>N</td>\n",
       "    </tr>\n",
       "  </tbody>\n",
       "</table>\n",
       "</div>"
      ],
      "text/plain": [
       "            review_id  star_rating  helpful_votes  total_votes vine  \\\n",
       "1954   R3N0XV9267NOXV            5             41           47    Y   \n",
       "5736    RSA6JQ346JZHZ            5             55           64    Y   \n",
       "7385   R1FXF4HRMCLG4C            5             69           84    Y   \n",
       "7883    RCTBWC3II42MG            4            113          117    Y   \n",
       "24464   RTMQM2CQ1XIZ0            5             21           25    Y   \n",
       "\n",
       "      verified_purchase  \n",
       "1954                  N  \n",
       "5736                  Y  \n",
       "7385                  N  \n",
       "7883                  N  \n",
       "24464                 N  "
      ]
     },
     "execution_count": 23,
     "metadata": {},
     "output_type": "execute_result"
    }
   ],
   "source": [
    "# Filter the DataFrame or tabl e created in Step 2, and create a new DataFrame or table \n",
    "# that retrieves all the rows where a review was written as part of the Vine program (paid), vine == 'Y'.\n",
    "\n",
    "vine_reviews = new_vine_df[new_vine_df[\"vine\"] ==\"Y\"]\n",
    "\n",
    "vine_reviews.head()"
   ]
  },
  {
   "cell_type": "code",
   "execution_count": 24,
   "id": "9090fbc8",
   "metadata": {},
   "outputs": [
    {
     "data": {
      "text/html": [
       "<div>\n",
       "<style scoped>\n",
       "    .dataframe tbody tr th:only-of-type {\n",
       "        vertical-align: middle;\n",
       "    }\n",
       "\n",
       "    .dataframe tbody tr th {\n",
       "        vertical-align: top;\n",
       "    }\n",
       "\n",
       "    .dataframe thead th {\n",
       "        text-align: right;\n",
       "    }\n",
       "</style>\n",
       "<table border=\"1\" class=\"dataframe\">\n",
       "  <thead>\n",
       "    <tr style=\"text-align: right;\">\n",
       "      <th></th>\n",
       "      <th>review_id</th>\n",
       "      <th>star_rating</th>\n",
       "      <th>helpful_votes</th>\n",
       "      <th>total_votes</th>\n",
       "      <th>vine</th>\n",
       "      <th>verified_purchase</th>\n",
       "    </tr>\n",
       "  </thead>\n",
       "  <tbody>\n",
       "    <tr>\n",
       "      <th>591</th>\n",
       "      <td>ROI00QN8IS49I</td>\n",
       "      <td>5</td>\n",
       "      <td>83</td>\n",
       "      <td>91</td>\n",
       "      <td>N</td>\n",
       "      <td>N</td>\n",
       "    </tr>\n",
       "    <tr>\n",
       "      <th>1122</th>\n",
       "      <td>R13C5INE1RTZP6</td>\n",
       "      <td>2</td>\n",
       "      <td>26</td>\n",
       "      <td>26</td>\n",
       "      <td>N</td>\n",
       "      <td>Y</td>\n",
       "    </tr>\n",
       "    <tr>\n",
       "      <th>1311</th>\n",
       "      <td>RXVMMXCL67MZN</td>\n",
       "      <td>4</td>\n",
       "      <td>378</td>\n",
       "      <td>383</td>\n",
       "      <td>N</td>\n",
       "      <td>Y</td>\n",
       "    </tr>\n",
       "    <tr>\n",
       "      <th>1837</th>\n",
       "      <td>R33JJQWAUYBKD3</td>\n",
       "      <td>5</td>\n",
       "      <td>270</td>\n",
       "      <td>280</td>\n",
       "      <td>N</td>\n",
       "      <td>Y</td>\n",
       "    </tr>\n",
       "    <tr>\n",
       "      <th>2056</th>\n",
       "      <td>R31HQD6YXSQV1W</td>\n",
       "      <td>3</td>\n",
       "      <td>40</td>\n",
       "      <td>48</td>\n",
       "      <td>N</td>\n",
       "      <td>Y</td>\n",
       "    </tr>\n",
       "  </tbody>\n",
       "</table>\n",
       "</div>"
      ],
      "text/plain": [
       "           review_id  star_rating  helpful_votes  total_votes vine  \\\n",
       "591    ROI00QN8IS49I            5             83           91    N   \n",
       "1122  R13C5INE1RTZP6            2             26           26    N   \n",
       "1311   RXVMMXCL67MZN            4            378          383    N   \n",
       "1837  R33JJQWAUYBKD3            5            270          280    N   \n",
       "2056  R31HQD6YXSQV1W            3             40           48    N   \n",
       "\n",
       "     verified_purchase  \n",
       "591                  N  \n",
       "1122                 Y  \n",
       "1311                 Y  \n",
       "1837                 Y  \n",
       "2056                 Y  "
      ]
     },
     "execution_count": 24,
     "metadata": {},
     "output_type": "execute_result"
    }
   ],
   "source": [
    "# Repeat Step 3, but this time retrieve all the rows where the review was not part of the Vine program (unpaid), vine == 'N'.\n",
    "\n",
    "not_vine_reviews = new_vine_df[new_vine_df[\"vine\"] ==\"N\"]\n",
    "\n",
    "not_vine_reviews.head()"
   ]
  },
  {
   "cell_type": "code",
   "execution_count": 25,
   "id": "2f10d8d2",
   "metadata": {},
   "outputs": [
    {
     "data": {
      "text/plain": [
       "222"
      ]
     },
     "execution_count": 25,
     "metadata": {},
     "output_type": "execute_result"
    }
   ],
   "source": [
    "# Determine the total number of reviews\n",
    "\n",
    "total_vine_reviews = len(vine_reviews)\n",
    "\n",
    "total_vine_reviews"
   ]
  },
  {
   "cell_type": "code",
   "execution_count": 26,
   "id": "d4e64ee9",
   "metadata": {},
   "outputs": [
    {
     "data": {
      "text/plain": [
       "6704"
      ]
     },
     "execution_count": 26,
     "metadata": {},
     "output_type": "execute_result"
    }
   ],
   "source": [
    "total_non_vine_reviews = len(not_vine_reviews)\n",
    "\n",
    "total_non_vine_reviews"
   ]
  },
  {
   "cell_type": "code",
   "execution_count": 30,
   "id": "e6851b38",
   "metadata": {},
   "outputs": [
    {
     "data": {
      "text/plain": [
       "111"
      ]
     },
     "execution_count": 30,
     "metadata": {},
     "output_type": "execute_result"
    }
   ],
   "source": [
    "# Determine the total number of 5 star reviews for vine\n",
    "\n",
    "max_rating_vine = len(vine_reviews[vine_reviews[\"star_rating\"]==5])\n",
    "\n",
    "max_rating_vine"
   ]
  },
  {
   "cell_type": "code",
   "execution_count": 32,
   "id": "56c8cb45",
   "metadata": {},
   "outputs": [
    {
     "data": {
      "text/plain": [
       "3339"
      ]
     },
     "execution_count": 32,
     "metadata": {},
     "output_type": "execute_result"
    }
   ],
   "source": [
    "# Determine the total number of 5 star reviews for non-vine\n",
    "\n",
    "max_rating_non_vine = len(not_vine_reviews[not_vine_reviews[\"star_rating\"]==5])\n",
    "                                           \n",
    "max_rating_non_vine                                           "
   ]
  },
  {
   "cell_type": "code",
   "execution_count": 34,
   "id": "9a6900ea",
   "metadata": {},
   "outputs": [
    {
     "data": {
      "text/plain": [
       "0.5"
      ]
     },
     "execution_count": 34,
     "metadata": {},
     "output_type": "execute_result"
    }
   ],
   "source": [
    "# Determine the percentage of 5 star reviews for paid reviews \n",
    "\n",
    "max_rating_vine/total_vine_reviews"
   ]
  },
  {
   "cell_type": "code",
   "execution_count": 36,
   "id": "9405c854",
   "metadata": {},
   "outputs": [
    {
     "data": {
      "text/plain": [
       "0.49806085918854415"
      ]
     },
     "execution_count": 36,
     "metadata": {},
     "output_type": "execute_result"
    }
   ],
   "source": [
    "# Determine the percentage of 5 star reviews for unpaid reviews\n",
    "\n",
    "max_rating_non_vine/total_non_vine_reviews                                        "
   ]
  }
 ],
 "metadata": {
  "kernelspec": {
   "display_name": "Python 3 (ipykernel)",
   "language": "python",
   "name": "python3"
  },
  "language_info": {
   "codemirror_mode": {
    "name": "ipython",
    "version": 3
   },
   "file_extension": ".py",
   "mimetype": "text/x-python",
   "name": "python",
   "nbconvert_exporter": "python",
   "pygments_lexer": "ipython3",
   "version": "3.9.12"
  }
 },
 "nbformat": 4,
 "nbformat_minor": 5
}
